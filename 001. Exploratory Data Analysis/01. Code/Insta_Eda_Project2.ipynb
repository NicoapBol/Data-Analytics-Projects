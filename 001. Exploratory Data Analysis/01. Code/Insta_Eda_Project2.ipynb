{
 "cells": [
  {
   "cell_type": "markdown",
   "metadata": {},
   "source": [
    "# EDA - INSTAGRAM IMPRESSIONS (EXPLORATORY DATA ANALYSIS): \n",
    "![Alt text](image.png)<br>\n",
    "## What insights can we get from posts data about the impression reached on Instagram? <br>\n",
    "By Nicolas Acha <br>\n",
    "September - 2023\n",
    "\n",
    "---------------------------------------------------------------------------"
   ]
  },
  {
   "cell_type": "markdown",
   "metadata": {},
   "source": [
    "## Dataset \n",
    "\n",
    "*About the DataSet:* Stats from the acount Statso <br>\n",
    "*Link source:* https://statso.io/instagram-reach-analysis-case-study/ <br>\n",
    "*Year date:* 2022"
   ]
  },
  {
   "cell_type": "code",
   "execution_count": 5,
   "metadata": {},
   "outputs": [],
   "source": [
    "#LIBRARIES SECTION:\n",
    "\n",
    "import pandas as pd\n",
    "import plotly.graph_objects as go\n",
    "import plotly.io as pio\n",
    "import plotly.express as px\n",
    "import matplotlib.pyplot as plt\n",
    "from scipy.stats import norm\n",
    "import numpy as np\n",
    "pio.templates.default = \"plotly_dark\"\n",
    "plt.style.use('dark_background')"
   ]
  },
  {
   "cell_type": "code",
   "execution_count": 6,
   "metadata": {},
   "outputs": [],
   "source": [
    "#IMPORT THE DATA:\n",
    "\n",
    "root = r\"C:\\Users\\nicol\\Documents\\Data-Analytics-Projects\\001. Exploratory Data Analysis\\00. Data\\Instagram data.csv\"\n",
    "df = pd.read_csv(root,encoding='latin-1')"
   ]
  },
  {
   "cell_type": "code",
   "execution_count": 23,
   "metadata": {},
   "outputs": [
    {
     "name": "stdout",
     "output_type": "stream",
     "text": [
      "DATASET DIMENSIONS:\n",
      "----------------------------------------------------------------------------------------------------\n",
      "This data set has a dimention (119 x 13 ) \n",
      "The are 119 rows or registers\n",
      "The are 13 columns\n",
      "The columns set for the df are: ['Impressions', 'From Home', 'From Hashtags', 'From Explore', 'From Other', 'Saves', 'Comments', 'Shares', 'Likes', 'Profile Visits', 'Follows', 'Caption', 'Hashtags']\n"
     ]
    }
   ],
   "source": [
    "#DATASET DIMENSIONS:\n",
    "\n",
    "print(\"DATASET DIMENSIONS:\")\n",
    "print(\"-\"*100)\n",
    "print(f\"This data set has a dimention ({df.shape[0]} x {df.shape[1]} ) \")\n",
    "columns = df.columns.tolist()\n",
    "print(f\"The are {df.shape[0]} rows or registers\")\n",
    "print(f\"The are {df.shape[1]} columns\")\n",
    "print(f\"The columns set for the df are: {columns}\")"
   ]
  }
 ],
 "metadata": {
  "kernelspec": {
   "display_name": "Python 3",
   "language": "python",
   "name": "python3"
  },
  "language_info": {
   "codemirror_mode": {
    "name": "ipython",
    "version": 3
   },
   "file_extension": ".py",
   "mimetype": "text/x-python",
   "name": "python",
   "nbconvert_exporter": "python",
   "pygments_lexer": "ipython3",
   "version": "3.10.11"
  },
  "orig_nbformat": 4
 },
 "nbformat": 4,
 "nbformat_minor": 2
}
